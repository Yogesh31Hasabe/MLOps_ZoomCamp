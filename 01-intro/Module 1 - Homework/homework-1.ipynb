{
 "cells": [
  {
   "cell_type": "code",
   "execution_count": 7,
   "metadata": {},
   "outputs": [],
   "source": [
    "import pandas as pd\n",
    "import seaborn as sns\n",
    "import matplotlib.pyplot as plt\n",
    "from sklearn.feature_extraction import DictVectorizer\n",
    "from sklearn.linear_model import LinearRegression\n",
    "from sklearn.metrics import mean_squared_error"
   ]
  },
  {
   "cell_type": "code",
   "execution_count": 8,
   "metadata": {},
   "outputs": [
    {
     "name": "stdout",
     "output_type": "stream",
     "text": [
      "Q1. After reading the data for January, no. of columns are: 19\n"
     ]
    }
   ],
   "source": [
    "# Q1. Downloading the data\n",
    "df = pd.read_parquet('dataset/yellow_tripdata_2023-01.parquet')\n",
    "num_columns = df.shape[1]\n",
    "print(f\"Q1. After reading the data for January, no. of columns are: {num_columns}\")"
   ]
  },
  {
   "cell_type": "code",
   "execution_count": 9,
   "metadata": {},
   "outputs": [
    {
     "name": "stdout",
     "output_type": "stream",
     "text": [
      "Q2. The standard deviation of the trips duration in January is: 42.59\n"
     ]
    }
   ],
   "source": [
    "df['duration'] = df.tpep_dropoff_datetime - df.tpep_pickup_datetime\n",
    "df.duration = df.duration.apply(lambda td: td.total_seconds() / 60)\n",
    "\n",
    "# Q2. Computing duration & STD\n",
    "std_duration = df['duration'].std() \n",
    "print(f\"Q2. The standard deviation of the trips duration in January is: {std_duration:.2f}\")"
   ]
  },
  {
   "cell_type": "code",
   "execution_count": 10,
   "metadata": {},
   "outputs": [
    {
     "name": "stdout",
     "output_type": "stream",
     "text": [
      "Q3. Fraction of the records left after dropping the outliers: 98.12%\n"
     ]
    }
   ],
   "source": [
    "records_before = len(df)\n",
    "df = df[(df.duration >= 1) & (df.duration <= 60)]\n",
    "records_after = len(df)\n",
    "records_remaining = (records_after / records_before ) * 100\n",
    "\n",
    "# Q3. Dropping outliers\n",
    "print(f\"Q3. Fraction of the records left after dropping the outliers: {records_remaining:.2f}%\")"
   ]
  },
  {
   "cell_type": "code",
   "execution_count": 11,
   "metadata": {},
   "outputs": [
    {
     "name": "stdout",
     "output_type": "stream",
     "text": [
      "Q4. Number of columns in the matrix after One-Hot encoding: 515\n"
     ]
    }
   ],
   "source": [
    "categorical = ['PULocationID', 'DOLocationID']\n",
    "df[categorical]=df[categorical].astype(str)\n",
    "train_dicts = df[categorical].to_dict(orient='records')\n",
    "dv = DictVectorizer()\n",
    "X_train = dv.fit_transform(train_dicts)\n",
    "\n",
    "# Q4. One-hot encoding\n",
    "num_columns = X_train.shape[1]\n",
    "print(f\"Q4. Number of columns in the matrix after One-Hot encoding: {num_columns}\")\n"
   ]
  },
  {
   "cell_type": "code",
   "execution_count": 12,
   "metadata": {},
   "outputs": [
    {
     "name": "stdout",
     "output_type": "stream",
     "text": [
      "Q5. The RMSE on train: 7.65\n"
     ]
    }
   ],
   "source": [
    "target = 'duration'\n",
    "y_train = df[target].values\n",
    "\n",
    "lr = LinearRegression()\n",
    "lr.fit(X_train, y_train)\n",
    "\n",
    "y_pred = lr.predict(X_train)\n",
    "\n",
    "# Q5. Training a model & RMSE on train\n",
    "mse_train = mean_squared_error(y_train, y_pred, squared=False)\n",
    "print(f\"Q5. The RMSE on train: {mse_train:.2f}\")"
   ]
  },
  {
   "cell_type": "code",
   "execution_count": 13,
   "metadata": {},
   "outputs": [
    {
     "name": "stdout",
     "output_type": "stream",
     "text": [
      "Q6. The RMSE on validation: 7.81\n"
     ]
    }
   ],
   "source": [
    "# Q6. Evaluating the model - apply this model to the validation dataset (February 2023) to get RMSE on Validation\n",
    "df_val = pd.read_parquet('dataset/yellow_tripdata_2023-02.parquet')\n",
    "df_val['duration'] = df_val.tpep_dropoff_datetime - df_val.tpep_pickup_datetime\n",
    "df_val.duration = df_val.duration.apply(lambda td: td.total_seconds() / 60)\n",
    "df_val = df_val[(df_val.duration >= 1) & (df_val.duration <= 60)]\n",
    "df_val[categorical]=df_val[categorical].astype(str)\n",
    "val_dicts = df_val[categorical].to_dict(orient='records')\n",
    "X_val = dv.transform(val_dicts)\n",
    "y_val = df_val[target].values\n",
    "y_val_pred = lr.predict(X_val)\n",
    "mse_val = mean_squared_error(y_val, y_val_pred, squared=False)\n",
    "print(f\"Q6. The RMSE on validation: {mse_val:.2f}\")"
   ]
  }
 ],
 "metadata": {
  "kernelspec": {
   "display_name": "mlops",
   "language": "python",
   "name": "mlops"
  },
  "language_info": {
   "codemirror_mode": {
    "name": "ipython",
    "version": 3
   },
   "file_extension": ".py",
   "mimetype": "text/x-python",
   "name": "python",
   "nbconvert_exporter": "python",
   "pygments_lexer": "ipython3",
   "version": "3.11.5"
  }
 },
 "nbformat": 4,
 "nbformat_minor": 4
}
