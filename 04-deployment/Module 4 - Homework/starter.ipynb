{
 "cells": [
  {
   "cell_type": "code",
   "execution_count": 1,
   "id": "2c51efaa",
   "metadata": {},
   "outputs": [
    {
     "name": "stdout",
     "output_type": "stream",
     "text": [
      "scikit-learn==1.5.0\n"
     ]
    }
   ],
   "source": [
    "!pip freeze | grep scikit-learn"
   ]
  },
  {
   "cell_type": "code",
   "execution_count": 2,
   "id": "4acf73a0-51b5-4663-9bb8-8eb947863e17",
   "metadata": {},
   "outputs": [
    {
     "name": "stdout",
     "output_type": "stream",
     "text": [
      "Python 3.12.3\n"
     ]
    }
   ],
   "source": [
    "!python -V"
   ]
  },
  {
   "cell_type": "code",
   "execution_count": 3,
   "id": "0ef880a0",
   "metadata": {},
   "outputs": [],
   "source": [
    "import pickle\n",
    "import pandas as pd\n",
    "import numpy as np\n",
    "import sys"
   ]
  },
  {
   "cell_type": "code",
   "execution_count": 4,
   "id": "7836ccfd",
   "metadata": {},
   "outputs": [],
   "source": [
    "with open('model.bin', 'rb') as f_in:\n",
    "    dv, model = pickle.load(f_in)"
   ]
  },
  {
   "cell_type": "code",
   "execution_count": 5,
   "id": "41c08294",
   "metadata": {},
   "outputs": [],
   "source": [
    "categorical = ['PULocationID', 'DOLocationID']\n",
    "\n",
    "def read_data(filename):\n",
    "    df = pd.read_parquet(filename)\n",
    "    \n",
    "    df['duration'] = df.tpep_dropoff_datetime - df.tpep_pickup_datetime\n",
    "    df['duration'] = df.duration.dt.total_seconds() / 60\n",
    "    df = df[(df.duration >= 1) & (df.duration <= 60)].copy()\n",
    "\n",
    "    df[categorical] = df[categorical].fillna(-1).astype('int').astype('str')\n",
    "    \n",
    "    return df"
   ]
  },
  {
   "cell_type": "code",
   "execution_count": 6,
   "id": "4854399a",
   "metadata": {},
   "outputs": [],
   "source": [
    "df = read_data('https://d37ci6vzurychx.cloudfront.net/trip-data/yellow_tripdata_2023-03.parquet')"
   ]
  },
  {
   "cell_type": "code",
   "execution_count": 7,
   "id": "669fda0a",
   "metadata": {},
   "outputs": [],
   "source": [
    "dicts = df[categorical].to_dict(orient='records')\n",
    "X_val = dv.transform(dicts)\n",
    "y_pred = model.predict(X_val)"
   ]
  },
  {
   "cell_type": "code",
   "execution_count": 13,
   "id": "d5fa3ea5",
   "metadata": {},
   "outputs": [
    {
     "name": "stdout",
     "output_type": "stream",
     "text": [
      "The standard deviation of the trips is: 6.247488852238703\n"
     ]
    }
   ],
   "source": [
    "print(f\"The standard deviation of the trips is: {np.std(y_pred)}\")"
   ]
  },
  {
   "cell_type": "code",
   "execution_count": 9,
   "id": "436581a5",
   "metadata": {},
   "outputs": [],
   "source": [
    "year = 2023\n",
    "month = 3"
   ]
  },
  {
   "cell_type": "code",
   "execution_count": 10,
   "id": "3c44279f",
   "metadata": {},
   "outputs": [],
   "source": [
    "df['ride_id'] = f'{year:04d}/{month:02d}_' + df.index.astype('str')\n",
    "pred_series = pd.Series(y_pred,name='duration')\n",
    "df_results = pd.concat([df[['ride_id']],pred_series],axis=1)"
   ]
  },
  {
   "cell_type": "code",
   "execution_count": 11,
   "id": "f8126aa5",
   "metadata": {},
   "outputs": [],
   "source": [
    "df_results.to_parquet(\n",
    "    'output.parquet',\n",
    "    engine='pyarrow',\n",
    "    compression=None,\n",
    "    index=False\n",
    ")"
   ]
  },
  {
   "cell_type": "markdown",
   "id": "6c8b2bc4",
   "metadata": {},
   "source": [
    "#### Extra Code for Verification of Calculation & Values only."
   ]
  },
  {
   "cell_type": "code",
   "execution_count": 14,
   "id": "6540fa84",
   "metadata": {},
   "outputs": [
    {
     "name": "stdout",
     "output_type": "stream",
     "text": [
      "The Mean predicted duration of the trip for April 2023 is: 14.292282936862449\n"
     ]
    }
   ],
   "source": [
    "##Extra Code for Verification of Calculation & Values\n",
    "\n",
    "# categorical = ['PULocationID', 'DOLocationID']\n",
    "\n",
    "# def read_data(filename):\n",
    "#     df = pd.read_parquet(filename)\n",
    "    \n",
    "#     df['duration'] = df.tpep_dropoff_datetime - df.tpep_pickup_datetime\n",
    "#     df['duration'] = df.duration.dt.total_seconds() / 60\n",
    "#     df = df[(df.duration >= 1) & (df.duration <= 60)].copy()\n",
    "\n",
    "#     df[categorical] = df[categorical].fillna(-1).astype('int').astype('str')\n",
    "    \n",
    "#     return df\n",
    "\n",
    "\n",
    "# df = read_data('https://d37ci6vzurychx.cloudfront.net/trip-data/yellow_tripdata_2023-04.parquet')\n",
    "\n",
    "# dicts = df[categorical].to_dict(orient='records')\n",
    "# X_val = dv.transform(dicts)\n",
    "# y_pred = model.predict(X_val)\n",
    "\n",
    "\n",
    "# print(f\"The Mean predicted duration of the trip for April 2023 is: {np.mean(y_pred)}\")"
   ]
  },
  {
   "cell_type": "code",
   "execution_count": 15,
   "id": "535e4e91",
   "metadata": {},
   "outputs": [
    {
     "name": "stdout",
     "output_type": "stream",
     "text": [
      "The Mean predicted duration of the trip for May 2023 is: 14.242595513316317\n"
     ]
    }
   ],
   "source": [
    "##Extra Code for Verification of Calculation & Values\n",
    "\n",
    "# categorical = ['PULocationID', 'DOLocationID']\n",
    "\n",
    "# def read_data(filename):\n",
    "#     df = pd.read_parquet(filename)\n",
    "    \n",
    "#     df['duration'] = df.tpep_dropoff_datetime - df.tpep_pickup_datetime\n",
    "#     df['duration'] = df.duration.dt.total_seconds() / 60\n",
    "#     df = df[(df.duration >= 1) & (df.duration <= 60)].copy()\n",
    "\n",
    "#     df[categorical] = df[categorical].fillna(-1).astype('int').astype('str')\n",
    "    \n",
    "#     return df\n",
    "\n",
    "\n",
    "# df = read_data('https://d37ci6vzurychx.cloudfront.net/trip-data/yellow_tripdata_2023-05.parquet')\n",
    "\n",
    "# dicts = df[categorical].to_dict(orient='records')\n",
    "# X_val = dv.transform(dicts)\n",
    "# y_pred = model.predict(X_val)\n",
    "\n",
    "\n",
    "# print(f\"The Mean predicted duration of the trip for May 2023 is: {np.mean(y_pred)}\")"
   ]
  }
 ],
 "metadata": {
  "kernelspec": {
   "display_name": "Python 3 (ipykernel)",
   "language": "python",
   "name": "python3"
  },
  "language_info": {
   "codemirror_mode": {
    "name": "ipython",
    "version": 3
   },
   "file_extension": ".py",
   "mimetype": "text/x-python",
   "name": "python",
   "nbconvert_exporter": "python",
   "pygments_lexer": "ipython3",
   "version": "3.12.3"
  }
 },
 "nbformat": 4,
 "nbformat_minor": 5
}
